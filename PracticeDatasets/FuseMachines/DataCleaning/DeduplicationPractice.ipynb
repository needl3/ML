{
 "cells": [
  {
   "cell_type": "code",
   "execution_count": 1,
   "id": "6cd3d02f",
   "metadata": {},
   "outputs": [],
   "source": [
    "import pandas as pd\n",
    "import phonenumbers as ph\n",
    "import probablepeople as pp"
   ]
  },
  {
   "cell_type": "markdown",
   "id": "27072df6",
   "metadata": {},
   "source": [
    "# Row duplication"
   ]
  },
  {
   "cell_type": "markdown",
   "id": "afe10c47",
   "metadata": {},
   "source": [
    "## Company Names"
   ]
  },
  {
   "cell_type": "code",
   "execution_count": 31,
   "id": "229b2579",
   "metadata": {},
   "outputs": [
    {
     "name": "stdout",
     "output_type": "stream",
     "text": [
      "['fusemachines  inc',\n",
      " 'fusemachines      nepal, inc.',\n",
      " 'fusemachines',\n",
      " 'fusemachines',\n",
      " 'fuse org.',\n",
      " 'fuse organization']\n"
     ]
    }
   ],
   "source": [
    "import pprint\n",
    "company_name_raw = [x.lower() for x in [\n",
    "                'Fusemachines  INC',\n",
    "                'FUSEMACHINES      NEPAL, INC.',\n",
    "                'FUSEMACHINES',\n",
    "                'fusemachines',\n",
    "                'fuse org.',\n",
    "                'fuse organization'\n",
    "                ]]\n",
    "pprint.pprint(company_name_raw)"
   ]
  },
  {
   "cell_type": "markdown",
   "id": "a47e8b56",
   "metadata": {},
   "source": [
    "### Without Library"
   ]
  },
  {
   "cell_type": "code",
   "execution_count": 36,
   "id": "bbbc5845",
   "metadata": {},
   "outputs": [
    {
     "data": {
      "text/plain": [
       "['fusemachines inc',\n",
       " 'fusemachines nepal inc ',\n",
       " 'fusemachines',\n",
       " 'fusemachines',\n",
       " 'fuse org ',\n",
       " 'fuse organization']"
      ]
     },
     "execution_count": 36,
     "metadata": {},
     "output_type": "execute_result"
    }
   ],
   "source": [
    "import re\n",
    "filter_special_chars = re.compile('[^a-z0-9\\s]')\n",
    "filter_multiple_spaces = re.compile('\\s+')\n",
    "filtered = [filter_multiple_spaces.sub(' ', filter_special_chars.sub(' ', i)) for i in company_name_raw]\n",
    "filtered"
   ]
  },
  {
   "cell_type": "code",
   "execution_count": 47,
   "id": "5f8b2398",
   "metadata": {},
   "outputs": [
    {
     "data": {
      "text/plain": [
       "['fusemachines',\n",
       " 'fusemachines',\n",
       " 'fusemachines',\n",
       " 'fusemachines',\n",
       " 'fuse',\n",
       " 'fuse']"
      ]
     },
     "execution_count": 47,
     "metadata": {},
     "output_type": "execute_result"
    }
   ],
   "source": [
    "# Defining stop words\n",
    "stop_words = [\n",
    "    \"inc\",\n",
    "    \"nepal\",\n",
    "    \"pvt\",\n",
    "    \"organization\",\n",
    "    \"org\"\n",
    "]\n",
    "company_name_clean_reg = [[part for part in i.split() if part not in stop_words][0] for i in filtered]\n",
    "company_name_clean_reg"
   ]
  },
  {
   "cell_type": "markdown",
   "id": "cef75e95",
   "metadata": {},
   "source": [
    "### Using library"
   ]
  },
  {
   "cell_type": "code",
   "execution_count": 30,
   "id": "58d347bc",
   "metadata": {},
   "outputs": [
    {
     "name": "stdout",
     "output_type": "stream",
     "text": [
      "['fusemachines', 'fusemachines', 'fusemachines', 'fusemachines', 'fuse', 'fuse']\n"
     ]
    }
   ],
   "source": [
    "company_name_clean = [[i for i,j in pp.parse(x) if j==\"CorporationName\"][0] for x in company_name_raw]\n",
    "pprint.pprint(company_name_clean)"
   ]
  },
  {
   "cell_type": "markdown",
   "id": "190ac134",
   "metadata": {},
   "source": [
    "## Phone Numbers"
   ]
  },
  {
   "cell_type": "code",
   "execution_count": 25,
   "id": "9874cfe9",
   "metadata": {},
   "outputs": [
    {
     "name": "stdout",
     "output_type": "stream",
     "text": [
      "['800/506-3873',\n",
      " '1-800-506-3873',\n",
      " '800-506/3873',\n",
      " '800/506-3873',\n",
      " '213/665-1661',\n",
      " '213/665-1661']\n"
     ]
    }
   ],
   "source": [
    "phone_numbers_raw = [\n",
    "                 '800/506-3873',\\\n",
    "                 '1-800-506-3873',\\\n",
    "                 '800-506/3873',\\\n",
    "                 '800/506-3873',\\\n",
    "                 '213/665-1661',\\\n",
    "                 '213/665-1661'\n",
    "                 ]\n",
    "pprint.pprint(phone_numbers_raw)"
   ]
  },
  {
   "cell_type": "code",
   "execution_count": 62,
   "id": "014955b4",
   "metadata": {},
   "outputs": [
    {
     "data": {
      "text/plain": [
       "['+18005063873',\n",
       " '+18005063873',\n",
       " '+18005063873',\n",
       " '+18005063873',\n",
       " '+12136651661',\n",
       " '+12136651661']"
      ]
     },
     "execution_count": 62,
     "metadata": {},
     "output_type": "execute_result"
    }
   ],
   "source": [
    "cleaned_phone_number = [ph.format_number(ph.parse(i, \"US\"), num_format=ph.PhoneNumberFormat.E164) for i in phone_numbers_raw]\n",
    "cleaned_phone_number"
   ]
  },
  {
   "cell_type": "code",
   "execution_count": 65,
   "id": "4fd5ccde",
   "metadata": {},
   "outputs": [
    {
     "data": {
      "text/html": [
       "<div>\n",
       "<style scoped>\n",
       "    .dataframe tbody tr th:only-of-type {\n",
       "        vertical-align: middle;\n",
       "    }\n",
       "\n",
       "    .dataframe tbody tr th {\n",
       "        vertical-align: top;\n",
       "    }\n",
       "\n",
       "    .dataframe thead th {\n",
       "        text-align: right;\n",
       "    }\n",
       "</style>\n",
       "<table border=\"1\" class=\"dataframe\">\n",
       "  <thead>\n",
       "    <tr style=\"text-align: right;\">\n",
       "      <th></th>\n",
       "      <th>Company</th>\n",
       "      <th>Phone</th>\n",
       "    </tr>\n",
       "  </thead>\n",
       "  <tbody>\n",
       "    <tr>\n",
       "      <th>0</th>\n",
       "      <td>fusemachines</td>\n",
       "      <td>+18005063873</td>\n",
       "    </tr>\n",
       "    <tr>\n",
       "      <th>4</th>\n",
       "      <td>fuse</td>\n",
       "      <td>+12136651661</td>\n",
       "    </tr>\n",
       "  </tbody>\n",
       "</table>\n",
       "</div>"
      ],
      "text/plain": [
       "        Company         Phone\n",
       "0  fusemachines  +18005063873\n",
       "4          fuse  +12136651661"
      ]
     },
     "execution_count": 65,
     "metadata": {},
     "output_type": "execute_result"
    }
   ],
   "source": [
    "df = pd.DataFrame({\"Company\": company_name_clean_reg, \"Phone\": cleaned_phone_number}).drop_duplicates()\n",
    "df"
   ]
  },
  {
   "cell_type": "code",
   "execution_count": 67,
   "id": "c37ca1b6",
   "metadata": {},
   "outputs": [
    {
     "data": {
      "text/html": [
       "<div>\n",
       "<style scoped>\n",
       "    .dataframe tbody tr th:only-of-type {\n",
       "        vertical-align: middle;\n",
       "    }\n",
       "\n",
       "    .dataframe tbody tr th {\n",
       "        vertical-align: top;\n",
       "    }\n",
       "\n",
       "    .dataframe thead th {\n",
       "        text-align: right;\n",
       "    }\n",
       "</style>\n",
       "<table border=\"1\" class=\"dataframe\">\n",
       "  <thead>\n",
       "    <tr style=\"text-align: right;\">\n",
       "      <th></th>\n",
       "      <th>f1</th>\n",
       "      <th>f2</th>\n",
       "      <th>f3</th>\n",
       "      <th>f4</th>\n",
       "      <th>f5</th>\n",
       "    </tr>\n",
       "  </thead>\n",
       "  <tbody>\n",
       "    <tr>\n",
       "      <th>0</th>\n",
       "      <td>10.50</td>\n",
       "      <td>M1</td>\n",
       "      <td>C3</td>\n",
       "      <td>5.0</td>\n",
       "      <td>5.0</td>\n",
       "    </tr>\n",
       "    <tr>\n",
       "      <th>1</th>\n",
       "      <td>8.30</td>\n",
       "      <td>M2</td>\n",
       "      <td>A3</td>\n",
       "      <td>6.1</td>\n",
       "      <td>6.1</td>\n",
       "    </tr>\n",
       "    <tr>\n",
       "      <th>2</th>\n",
       "      <td>8.00</td>\n",
       "      <td>M1</td>\n",
       "      <td>C3</td>\n",
       "      <td>2.5</td>\n",
       "      <td>2.5</td>\n",
       "    </tr>\n",
       "    <tr>\n",
       "      <th>3</th>\n",
       "      <td>11.99</td>\n",
       "      <td>M3</td>\n",
       "      <td>B3</td>\n",
       "      <td>5.1</td>\n",
       "      <td>5.1</td>\n",
       "    </tr>\n",
       "  </tbody>\n",
       "</table>\n",
       "</div>"
      ],
      "text/plain": [
       "      f1  f2  f3   f4   f5\n",
       "0  10.50  M1  C3  5.0  5.0\n",
       "1   8.30  M2  A3  6.1  6.1\n",
       "2   8.00  M1  C3  2.5  2.5\n",
       "3  11.99  M3  B3  5.1  5.1"
      ]
     },
     "execution_count": 67,
     "metadata": {},
     "output_type": "execute_result"
    }
   ],
   "source": [
    "data = [\n",
    "    (10.5,\"M1\",'C3',5,5),\n",
    "    (8.3,\"M2\",'A3',6.1,6.1),\n",
    "    (8,\"M1\",'C3',2.5,2.5),\n",
    "    (11.99,\"M3\",'B3',5.1,5.1),\n",
    "]\n",
    "df = pd.DataFrame(data, columns=['f1', 'f2', 'f3','f4','f5'])\n",
    "df"
   ]
  },
  {
   "cell_type": "code",
   "execution_count": 70,
   "id": "1e3fdc5c",
   "metadata": {},
   "outputs": [
    {
     "data": {
      "text/html": [
       "<div>\n",
       "<style scoped>\n",
       "    .dataframe tbody tr th:only-of-type {\n",
       "        vertical-align: middle;\n",
       "    }\n",
       "\n",
       "    .dataframe tbody tr th {\n",
       "        vertical-align: top;\n",
       "    }\n",
       "\n",
       "    .dataframe thead th {\n",
       "        text-align: right;\n",
       "    }\n",
       "</style>\n",
       "<table border=\"1\" class=\"dataframe\">\n",
       "  <thead>\n",
       "    <tr style=\"text-align: right;\">\n",
       "      <th></th>\n",
       "      <th>0</th>\n",
       "      <th>1</th>\n",
       "      <th>2</th>\n",
       "      <th>3</th>\n",
       "    </tr>\n",
       "  </thead>\n",
       "  <tbody>\n",
       "    <tr>\n",
       "      <th>f1</th>\n",
       "      <td>10.5</td>\n",
       "      <td>8.3</td>\n",
       "      <td>8.0</td>\n",
       "      <td>11.99</td>\n",
       "    </tr>\n",
       "    <tr>\n",
       "      <th>f2</th>\n",
       "      <td>M1</td>\n",
       "      <td>M2</td>\n",
       "      <td>M1</td>\n",
       "      <td>M3</td>\n",
       "    </tr>\n",
       "    <tr>\n",
       "      <th>f3</th>\n",
       "      <td>C3</td>\n",
       "      <td>A3</td>\n",
       "      <td>C3</td>\n",
       "      <td>B3</td>\n",
       "    </tr>\n",
       "    <tr>\n",
       "      <th>f4</th>\n",
       "      <td>5.0</td>\n",
       "      <td>6.1</td>\n",
       "      <td>2.5</td>\n",
       "      <td>5.1</td>\n",
       "    </tr>\n",
       "    <tr>\n",
       "      <th>f5</th>\n",
       "      <td>5.0</td>\n",
       "      <td>6.1</td>\n",
       "      <td>2.5</td>\n",
       "      <td>5.1</td>\n",
       "    </tr>\n",
       "  </tbody>\n",
       "</table>\n",
       "</div>"
      ],
      "text/plain": [
       "       0    1    2      3\n",
       "f1  10.5  8.3  8.0  11.99\n",
       "f2    M1   M2   M1     M3\n",
       "f3    C3   A3   C3     B3\n",
       "f4   5.0  6.1  2.5    5.1\n",
       "f5   5.0  6.1  2.5    5.1"
      ]
     },
     "execution_count": 70,
     "metadata": {},
     "output_type": "execute_result"
    }
   ],
   "source": [
    "df.T"
   ]
  }
 ],
 "metadata": {
  "kernelspec": {
   "display_name": "Python 3 (ipykernel)",
   "language": "python",
   "name": "python3"
  },
  "language_info": {
   "codemirror_mode": {
    "name": "ipython",
    "version": 3
   },
   "file_extension": ".py",
   "mimetype": "text/x-python",
   "name": "python",
   "nbconvert_exporter": "python",
   "pygments_lexer": "ipython3",
   "version": "3.10.10"
  }
 },
 "nbformat": 4,
 "nbformat_minor": 5
}
