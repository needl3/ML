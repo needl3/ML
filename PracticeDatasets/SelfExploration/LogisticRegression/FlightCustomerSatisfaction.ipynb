{
 "cells": [
  {
   "cell_type": "code",
   "execution_count": 1,
   "id": "b4ac21c7",
   "metadata": {
    "colab": {
     "base_uri": "https://localhost:8080/",
     "height": 456
    },
    "id": "b4ac21c7",
    "outputId": "eaf084a1-f515-45f1-c4a3-a5b743e8ac79"
   },
   "outputs": [
    {
     "name": "stdout",
     "output_type": "stream",
     "text": [
      "(129880, 23)\n"
     ]
    },
    {
     "data": {
      "text/html": [
       "<div>\n",
       "<style scoped>\n",
       "    .dataframe tbody tr th:only-of-type {\n",
       "        vertical-align: middle;\n",
       "    }\n",
       "\n",
       "    .dataframe tbody tr th {\n",
       "        vertical-align: top;\n",
       "    }\n",
       "\n",
       "    .dataframe thead th {\n",
       "        text-align: right;\n",
       "    }\n",
       "</style>\n",
       "<table border=\"1\" class=\"dataframe\">\n",
       "  <thead>\n",
       "    <tr style=\"text-align: right;\">\n",
       "      <th></th>\n",
       "      <th>satisfaction</th>\n",
       "      <th>Gender</th>\n",
       "      <th>Customer Type</th>\n",
       "      <th>Age</th>\n",
       "      <th>Type of Travel</th>\n",
       "      <th>Class</th>\n",
       "      <th>Flight Distance</th>\n",
       "      <th>Seat comfort</th>\n",
       "      <th>Departure/Arrival time convenient</th>\n",
       "      <th>Food and drink</th>\n",
       "      <th>...</th>\n",
       "      <th>Online support</th>\n",
       "      <th>Ease of Online booking</th>\n",
       "      <th>On-board service</th>\n",
       "      <th>Leg room service</th>\n",
       "      <th>Baggage handling</th>\n",
       "      <th>Checkin service</th>\n",
       "      <th>Cleanliness</th>\n",
       "      <th>Online boarding</th>\n",
       "      <th>Departure Delay in Minutes</th>\n",
       "      <th>Arrival Delay in Minutes</th>\n",
       "    </tr>\n",
       "  </thead>\n",
       "  <tbody>\n",
       "    <tr>\n",
       "      <th>0</th>\n",
       "      <td>satisfied</td>\n",
       "      <td>Female</td>\n",
       "      <td>Loyal Customer</td>\n",
       "      <td>65</td>\n",
       "      <td>Personal Travel</td>\n",
       "      <td>Eco</td>\n",
       "      <td>265</td>\n",
       "      <td>0</td>\n",
       "      <td>0</td>\n",
       "      <td>0</td>\n",
       "      <td>...</td>\n",
       "      <td>2</td>\n",
       "      <td>3</td>\n",
       "      <td>3</td>\n",
       "      <td>0</td>\n",
       "      <td>3</td>\n",
       "      <td>5</td>\n",
       "      <td>3</td>\n",
       "      <td>2</td>\n",
       "      <td>0</td>\n",
       "      <td>0.0</td>\n",
       "    </tr>\n",
       "    <tr>\n",
       "      <th>1</th>\n",
       "      <td>satisfied</td>\n",
       "      <td>Male</td>\n",
       "      <td>Loyal Customer</td>\n",
       "      <td>47</td>\n",
       "      <td>Personal Travel</td>\n",
       "      <td>Business</td>\n",
       "      <td>2464</td>\n",
       "      <td>0</td>\n",
       "      <td>0</td>\n",
       "      <td>0</td>\n",
       "      <td>...</td>\n",
       "      <td>2</td>\n",
       "      <td>3</td>\n",
       "      <td>4</td>\n",
       "      <td>4</td>\n",
       "      <td>4</td>\n",
       "      <td>2</td>\n",
       "      <td>3</td>\n",
       "      <td>2</td>\n",
       "      <td>310</td>\n",
       "      <td>305.0</td>\n",
       "    </tr>\n",
       "    <tr>\n",
       "      <th>2</th>\n",
       "      <td>satisfied</td>\n",
       "      <td>Female</td>\n",
       "      <td>Loyal Customer</td>\n",
       "      <td>15</td>\n",
       "      <td>Personal Travel</td>\n",
       "      <td>Eco</td>\n",
       "      <td>2138</td>\n",
       "      <td>0</td>\n",
       "      <td>0</td>\n",
       "      <td>0</td>\n",
       "      <td>...</td>\n",
       "      <td>2</td>\n",
       "      <td>2</td>\n",
       "      <td>3</td>\n",
       "      <td>3</td>\n",
       "      <td>4</td>\n",
       "      <td>4</td>\n",
       "      <td>4</td>\n",
       "      <td>2</td>\n",
       "      <td>0</td>\n",
       "      <td>0.0</td>\n",
       "    </tr>\n",
       "    <tr>\n",
       "      <th>3</th>\n",
       "      <td>satisfied</td>\n",
       "      <td>Female</td>\n",
       "      <td>Loyal Customer</td>\n",
       "      <td>60</td>\n",
       "      <td>Personal Travel</td>\n",
       "      <td>Eco</td>\n",
       "      <td>623</td>\n",
       "      <td>0</td>\n",
       "      <td>0</td>\n",
       "      <td>0</td>\n",
       "      <td>...</td>\n",
       "      <td>3</td>\n",
       "      <td>1</td>\n",
       "      <td>1</td>\n",
       "      <td>0</td>\n",
       "      <td>1</td>\n",
       "      <td>4</td>\n",
       "      <td>1</td>\n",
       "      <td>3</td>\n",
       "      <td>0</td>\n",
       "      <td>0.0</td>\n",
       "    </tr>\n",
       "    <tr>\n",
       "      <th>4</th>\n",
       "      <td>satisfied</td>\n",
       "      <td>Female</td>\n",
       "      <td>Loyal Customer</td>\n",
       "      <td>70</td>\n",
       "      <td>Personal Travel</td>\n",
       "      <td>Eco</td>\n",
       "      <td>354</td>\n",
       "      <td>0</td>\n",
       "      <td>0</td>\n",
       "      <td>0</td>\n",
       "      <td>...</td>\n",
       "      <td>4</td>\n",
       "      <td>2</td>\n",
       "      <td>2</td>\n",
       "      <td>0</td>\n",
       "      <td>2</td>\n",
       "      <td>4</td>\n",
       "      <td>2</td>\n",
       "      <td>5</td>\n",
       "      <td>0</td>\n",
       "      <td>0.0</td>\n",
       "    </tr>\n",
       "  </tbody>\n",
       "</table>\n",
       "<p>5 rows × 23 columns</p>\n",
       "</div>"
      ],
      "text/plain": [
       "  satisfaction  Gender   Customer Type  Age   Type of Travel     Class   \n",
       "0    satisfied  Female  Loyal Customer   65  Personal Travel       Eco  \\\n",
       "1    satisfied    Male  Loyal Customer   47  Personal Travel  Business   \n",
       "2    satisfied  Female  Loyal Customer   15  Personal Travel       Eco   \n",
       "3    satisfied  Female  Loyal Customer   60  Personal Travel       Eco   \n",
       "4    satisfied  Female  Loyal Customer   70  Personal Travel       Eco   \n",
       "\n",
       "   Flight Distance  Seat comfort  Departure/Arrival time convenient   \n",
       "0              265             0                                  0  \\\n",
       "1             2464             0                                  0   \n",
       "2             2138             0                                  0   \n",
       "3              623             0                                  0   \n",
       "4              354             0                                  0   \n",
       "\n",
       "   Food and drink  ...  Online support  Ease of Online booking   \n",
       "0               0  ...               2                       3  \\\n",
       "1               0  ...               2                       3   \n",
       "2               0  ...               2                       2   \n",
       "3               0  ...               3                       1   \n",
       "4               0  ...               4                       2   \n",
       "\n",
       "   On-board service  Leg room service  Baggage handling  Checkin service   \n",
       "0                 3                 0                 3                5  \\\n",
       "1                 4                 4                 4                2   \n",
       "2                 3                 3                 4                4   \n",
       "3                 1                 0                 1                4   \n",
       "4                 2                 0                 2                4   \n",
       "\n",
       "   Cleanliness  Online boarding  Departure Delay in Minutes   \n",
       "0            3                2                           0  \\\n",
       "1            3                2                         310   \n",
       "2            4                2                           0   \n",
       "3            1                3                           0   \n",
       "4            2                5                           0   \n",
       "\n",
       "   Arrival Delay in Minutes  \n",
       "0                       0.0  \n",
       "1                     305.0  \n",
       "2                       0.0  \n",
       "3                       0.0  \n",
       "4                       0.0  \n",
       "\n",
       "[5 rows x 23 columns]"
      ]
     },
     "execution_count": 1,
     "metadata": {},
     "output_type": "execute_result"
    }
   ],
   "source": [
    "import pandas as pd\n",
    "df = pd.read_csv('Invistico_Airline.csv')\n",
    "print(df.shape)\n",
    "df.head()"
   ]
  },
  {
   "cell_type": "code",
   "execution_count": 2,
   "id": "a2e7d265",
   "metadata": {
    "colab": {
     "base_uri": "https://localhost:8080/"
    },
    "id": "a2e7d265",
    "outputId": "f1fca66a-30f4-40f1-869b-19bb83d84f93"
   },
   "outputs": [
    {
     "data": {
      "text/plain": [
       "393"
      ]
     },
     "execution_count": 2,
     "metadata": {},
     "output_type": "execute_result"
    }
   ],
   "source": [
    "df[df.isna().any(axis=1)].count()[0]"
   ]
  },
  {
   "cell_type": "markdown",
   "id": "aeadab53",
   "metadata": {
    "id": "aeadab53"
   },
   "source": [
    "### Dropping all NaN values for now"
   ]
  },
  {
   "cell_type": "code",
   "execution_count": 3,
   "id": "c971a133",
   "metadata": {
    "id": "c971a133"
   },
   "outputs": [],
   "source": [
    "df.dropna(inplace=True)"
   ]
  },
  {
   "cell_type": "code",
   "execution_count": 4,
   "id": "2eabe983",
   "metadata": {
    "colab": {
     "base_uri": "https://localhost:8080/",
     "height": 1000
    },
    "id": "2eabe983",
    "outputId": "0281e12e-0487-41bd-a2bb-4ae4f5c4e14b"
   },
   "outputs": [
    {
     "data": {
      "image/png": "[encoded data removed]",
      "text/plain": [
       "<Figure size 640x480 with 1 Axes>"
      ]
     },
     "metadata": {},
     "output_type": "display_data"
    },
    {
     "data": {
      "image/png": "[encoded data removed]",
      "text/plain": [
       "<Figure size 640x480 with 1 Axes>"
      ]
     },
     "metadata": {},
     "output_type": "display_data"
    },
    {
     "data": {
      "image/png": "[encoded data removed]",
      "text/plain": [
       "<Figure size 640x480 with 1 Axes>"
      ]
     },
     "metadata": {},
     "output_type": "display_data"
    },
    {
     "data": {
      "image/png": "[encoded data removed]",
      "text/plain": [
       "<Figure size 640x480 with 1 Axes>"
      ]
     },
     "metadata": {},
     "output_type": "display_data"
    },
    {
     "data": {
      "image/png": "[encoded data removed]",
      "text/plain": [
       "<Figure size 640x480 with 1 Axes>"
      ]
     },
     "metadata": {},
     "output_type": "display_data"
    },
    {
     "data": {
      "image/png": "[encoded data removed]",
      "text/plain": [
       "<Figure size 640x480 with 1 Axes>"
      ]
     },
     "metadata": {},
     "output_type": "display_data"
    }
   ],
   "source": [
    "import seaborn as sns\n",
    "import matplotlib.pyplot as plt\n",
    "for i in ['satisfaction', 'Gender', 'Customer Type', 'Age', 'Type of Travel',\n",
    "       'Class']:\n",
    "    sns.countplot(df, x=i, palette='Set3')\n",
    "    plt.show()"
   ]
  },
  {
   "cell_type": "code",
   "execution_count": 5,
   "id": "59a1abcf",
   "metadata": {
    "colab": {
     "base_uri": "https://localhost:8080/",
     "height": 525
    },
    "id": "59a1abcf",
    "outputId": "dc9aa6db-bb92-4248-9d45-0830f3f88c1b"
   },
   "outputs": [
    {
     "name": "stderr",
     "output_type": "stream",
     "text": [
      "/tmp/ipykernel_185358/4016748408.py:2: SettingWithCopyWarning: \n",
      "A value is trying to be set on a copy of a slice from a DataFrame\n",
      "\n",
      "See the caveats in the documentation: https://pandas.pydata.org/pandas-docs/stable/user_guide/indexing.html#returning-a-view-versus-a-copy\n",
      "  encoded_df[\"satisfaction\"][encoded_df[\"satisfaction\"] == \"satisfied\"] = True\n",
      "/tmp/ipykernel_185358/4016748408.py:3: SettingWithCopyWarning: \n",
      "A value is trying to be set on a copy of a slice from a DataFrame\n",
      "\n",
      "See the caveats in the documentation: https://pandas.pydata.org/pandas-docs/stable/user_guide/indexing.html#returning-a-view-versus-a-copy\n",
      "  encoded_df[\"satisfaction\"][encoded_df[\"satisfaction\"] == \"dissatisfied\"] = False\n"
     ]
    },
    {
     "data": {
      "text/html": [
       "<div>\n",
       "<style scoped>\n",
       "    .dataframe tbody tr th:only-of-type {\n",
       "        vertical-align: middle;\n",
       "    }\n",
       "\n",
       "    .dataframe tbody tr th {\n",
       "        vertical-align: top;\n",
       "    }\n",
       "\n",
       "    .dataframe thead th {\n",
       "        text-align: right;\n",
       "    }\n",
       "</style>\n",
       "<table border=\"1\" class=\"dataframe\">\n",
       "  <thead>\n",
       "    <tr style=\"text-align: right;\">\n",
       "      <th></th>\n",
       "      <th>satisfaction</th>\n",
       "      <th>Age</th>\n",
       "      <th>Flight Distance</th>\n",
       "      <th>Seat comfort</th>\n",
       "      <th>Departure/Arrival time convenient</th>\n",
       "      <th>Food and drink</th>\n",
       "      <th>Gate location</th>\n",
       "      <th>Inflight wifi service</th>\n",
       "      <th>Inflight entertainment</th>\n",
       "      <th>Online support</th>\n",
       "      <th>...</th>\n",
       "      <th>Arrival Delay in Minutes</th>\n",
       "      <th>Gender_Female</th>\n",
       "      <th>Gender_Male</th>\n",
       "      <th>Customer Type_Loyal Customer</th>\n",
       "      <th>Customer Type_disloyal Customer</th>\n",
       "      <th>Type of Travel_Business travel</th>\n",
       "      <th>Type of Travel_Personal Travel</th>\n",
       "      <th>Class_Business</th>\n",
       "      <th>Class_Eco</th>\n",
       "      <th>Class_Eco Plus</th>\n",
       "    </tr>\n",
       "  </thead>\n",
       "  <tbody>\n",
       "    <tr>\n",
       "      <th>129875</th>\n",
       "      <td>True</td>\n",
       "      <td>29</td>\n",
       "      <td>1731</td>\n",
       "      <td>5</td>\n",
       "      <td>5</td>\n",
       "      <td>5</td>\n",
       "      <td>3</td>\n",
       "      <td>2</td>\n",
       "      <td>5</td>\n",
       "      <td>2</td>\n",
       "      <td>...</td>\n",
       "      <td>0.0</td>\n",
       "      <td>True</td>\n",
       "      <td>False</td>\n",
       "      <td>False</td>\n",
       "      <td>True</td>\n",
       "      <td>False</td>\n",
       "      <td>True</td>\n",
       "      <td>False</td>\n",
       "      <td>True</td>\n",
       "      <td>False</td>\n",
       "    </tr>\n",
       "    <tr>\n",
       "      <th>129876</th>\n",
       "      <td>False</td>\n",
       "      <td>63</td>\n",
       "      <td>2087</td>\n",
       "      <td>2</td>\n",
       "      <td>3</td>\n",
       "      <td>2</td>\n",
       "      <td>4</td>\n",
       "      <td>2</td>\n",
       "      <td>1</td>\n",
       "      <td>1</td>\n",
       "      <td>...</td>\n",
       "      <td>172.0</td>\n",
       "      <td>False</td>\n",
       "      <td>True</td>\n",
       "      <td>False</td>\n",
       "      <td>True</td>\n",
       "      <td>False</td>\n",
       "      <td>True</td>\n",
       "      <td>True</td>\n",
       "      <td>False</td>\n",
       "      <td>False</td>\n",
       "    </tr>\n",
       "    <tr>\n",
       "      <th>129877</th>\n",
       "      <td>False</td>\n",
       "      <td>69</td>\n",
       "      <td>2320</td>\n",
       "      <td>3</td>\n",
       "      <td>0</td>\n",
       "      <td>3</td>\n",
       "      <td>3</td>\n",
       "      <td>3</td>\n",
       "      <td>2</td>\n",
       "      <td>2</td>\n",
       "      <td>...</td>\n",
       "      <td>163.0</td>\n",
       "      <td>False</td>\n",
       "      <td>True</td>\n",
       "      <td>False</td>\n",
       "      <td>True</td>\n",
       "      <td>False</td>\n",
       "      <td>True</td>\n",
       "      <td>False</td>\n",
       "      <td>True</td>\n",
       "      <td>False</td>\n",
       "    </tr>\n",
       "    <tr>\n",
       "      <th>129878</th>\n",
       "      <td>False</td>\n",
       "      <td>66</td>\n",
       "      <td>2450</td>\n",
       "      <td>3</td>\n",
       "      <td>2</td>\n",
       "      <td>3</td>\n",
       "      <td>2</td>\n",
       "      <td>3</td>\n",
       "      <td>2</td>\n",
       "      <td>2</td>\n",
       "      <td>...</td>\n",
       "      <td>205.0</td>\n",
       "      <td>False</td>\n",
       "      <td>True</td>\n",
       "      <td>False</td>\n",
       "      <td>True</td>\n",
       "      <td>False</td>\n",
       "      <td>True</td>\n",
       "      <td>False</td>\n",
       "      <td>True</td>\n",
       "      <td>False</td>\n",
       "    </tr>\n",
       "    <tr>\n",
       "      <th>129879</th>\n",
       "      <td>False</td>\n",
       "      <td>38</td>\n",
       "      <td>4307</td>\n",
       "      <td>3</td>\n",
       "      <td>4</td>\n",
       "      <td>3</td>\n",
       "      <td>3</td>\n",
       "      <td>3</td>\n",
       "      <td>3</td>\n",
       "      <td>3</td>\n",
       "      <td>...</td>\n",
       "      <td>186.0</td>\n",
       "      <td>True</td>\n",
       "      <td>False</td>\n",
       "      <td>False</td>\n",
       "      <td>True</td>\n",
       "      <td>False</td>\n",
       "      <td>True</td>\n",
       "      <td>False</td>\n",
       "      <td>True</td>\n",
       "      <td>False</td>\n",
       "    </tr>\n",
       "  </tbody>\n",
       "</table>\n",
       "<p>5 rows × 28 columns</p>\n",
       "</div>"
      ],
      "text/plain": [
       "        satisfaction  Age  Flight Distance  Seat comfort   \n",
       "129875          True   29             1731             5  \\\n",
       "129876         False   63             2087             2   \n",
       "129877         False   69             2320             3   \n",
       "129878         False   66             2450             3   \n",
       "129879         False   38             4307             3   \n",
       "\n",
       "        Departure/Arrival time convenient  Food and drink  Gate location   \n",
       "129875                                  5               5              3  \\\n",
       "129876                                  3               2              4   \n",
       "129877                                  0               3              3   \n",
       "129878                                  2               3              2   \n",
       "129879                                  4               3              3   \n",
       "\n",
       "        Inflight wifi service  Inflight entertainment  Online support  ...   \n",
       "129875                      2                       5               2  ...  \\\n",
       "129876                      2                       1               1  ...   \n",
       "129877                      3                       2               2  ...   \n",
       "129878                      3                       2               2  ...   \n",
       "129879                      3                       3               3  ...   \n",
       "\n",
       "        Arrival Delay in Minutes  Gender_Female  Gender_Male   \n",
       "129875                       0.0           True        False  \\\n",
       "129876                     172.0          False         True   \n",
       "129877                     163.0          False         True   \n",
       "129878                     205.0          False         True   \n",
       "129879                     186.0           True        False   \n",
       "\n",
       "        Customer Type_Loyal Customer  Customer Type_disloyal Customer   \n",
       "129875                         False                             True  \\\n",
       "129876                         False                             True   \n",
       "129877                         False                             True   \n",
       "129878                         False                             True   \n",
       "129879                         False                             True   \n",
       "\n",
       "        Type of Travel_Business travel  Type of Travel_Personal Travel   \n",
       "129875                           False                            True  \\\n",
       "129876                           False                            True   \n",
       "129877                           False                            True   \n",
       "129878                           False                            True   \n",
       "129879                           False                            True   \n",
       "\n",
       "        Class_Business  Class_Eco  Class_Eco Plus  \n",
       "129875           False       True           False  \n",
       "129876            True      False           False  \n",
       "129877           False       True           False  \n",
       "129878           False       True           False  \n",
       "129879           False       True           False  \n",
       "\n",
       "[5 rows x 28 columns]"
      ]
     },
     "execution_count": 5,
     "metadata": {},
     "output_type": "execute_result"
    }
   ],
   "source": [
    "encoded_df = pd.get_dummies(df, columns=['Gender', 'Customer Type', \"Type of Travel\", \"Class\"])\n",
    "encoded_df[\"satisfaction\"][encoded_df[\"satisfaction\"] == \"satisfied\"] = True\n",
    "encoded_df[\"satisfaction\"][encoded_df[\"satisfaction\"] == \"dissatisfied\"] = False\n",
    "encoded_df[\"satisfaction\"] = encoded_df[\"satisfaction\"].astype('bool')\n",
    "encoded_df.tail()"
   ]
  },
  {
   "cell_type": "markdown",
   "id": "584fa648",
   "metadata": {
    "id": "584fa648"
   },
   "source": [
    "## Important Feature Selections\n",
    "\n",
    "- Using any of Random Forest, Decision Tree or other Feature Importance variables\n",
    "\n",
    "First seperate target and feature variables from the dataframe"
   ]
  },
  {
   "cell_type": "code",
   "execution_count": 6,
   "id": "e37f6967",
   "metadata": {
    "colab": {
     "base_uri": "https://localhost:8080/"
    },
    "id": "e37f6967",
    "outputId": "6f9b2046-1beb-4b9f-c4ff-48e1c1644eec"
   },
   "outputs": [
    {
     "name": "stdout",
     "output_type": "stream",
     "text": [
      "(129487, 27) (129487,)\n"
     ]
    }
   ],
   "source": [
    "X = encoded_df.drop(columns=[\"satisfaction\"])\n",
    "y = encoded_df[\"satisfaction\"]\n",
    "print(X.shape, y.shape)"
   ]
  },
  {
   "cell_type": "markdown",
   "id": "bd3c58e0",
   "metadata": {
    "id": "bd3c58e0"
   },
   "source": [
    "### Sort features with most influence on decision boundaryA\n",
    "\n",
    "Just use sklearn's decision tree classifier. It provides feature importance it used to generate that tree and then use it.\n",
    "I'm too lazy rn to implement that rn."
   ]
  },
  {
   "cell_type": "code",
   "execution_count": 7,
   "id": "cd5b1872",
   "metadata": {
    "colab": {
     "base_uri": "https://localhost:8080/"
    },
    "id": "cd5b1872",
    "outputId": "3ddcb725-e892-47ec-9087-a6633cffbccd"
   },
   "outputs": [
    {
     "data": {
      "text/html": [
       "<div>\n",
       "<style scoped>\n",
       "    .dataframe tbody tr th:only-of-type {\n",
       "        vertical-align: middle;\n",
       "    }\n",
       "\n",
       "    .dataframe tbody tr th {\n",
       "        vertical-align: top;\n",
       "    }\n",
       "\n",
       "    .dataframe thead th {\n",
       "        text-align: right;\n",
       "    }\n",
       "</style>\n",
       "<table border=\"1\" class=\"dataframe\">\n",
       "  <thead>\n",
       "    <tr style=\"text-align: right;\">\n",
       "      <th></th>\n",
       "      <th>Features</th>\n",
       "      <th>Importance</th>\n",
       "    </tr>\n",
       "  </thead>\n",
       "  <tbody>\n",
       "    <tr>\n",
       "      <th>0</th>\n",
       "      <td>Age</td>\n",
       "      <td>0.000000</td>\n",
       "    </tr>\n",
       "    <tr>\n",
       "      <th>1</th>\n",
       "      <td>Flight Distance</td>\n",
       "      <td>0.000000</td>\n",
       "    </tr>\n",
       "    <tr>\n",
       "      <th>2</th>\n",
       "      <td>Seat comfort</td>\n",
       "      <td>0.268701</td>\n",
       "    </tr>\n",
       "    <tr>\n",
       "      <th>3</th>\n",
       "      <td>Departure/Arrival time convenient</td>\n",
       "      <td>0.002504</td>\n",
       "    </tr>\n",
       "    <tr>\n",
       "      <th>4</th>\n",
       "      <td>Food and drink</td>\n",
       "      <td>0.000000</td>\n",
       "    </tr>\n",
       "  </tbody>\n",
       "</table>\n",
       "</div>"
      ],
      "text/plain": [
       "                            Features  Importance\n",
       "0                                Age    0.000000\n",
       "1                    Flight Distance    0.000000\n",
       "2                       Seat comfort    0.268701\n",
       "3  Departure/Arrival time convenient    0.002504\n",
       "4                     Food and drink    0.000000"
      ]
     },
     "execution_count": 7,
     "metadata": {},
     "output_type": "execute_result"
    }
   ],
   "source": [
    "from sklearn.tree import DecisionTreeClassifier\n",
    "dt = DecisionTreeClassifier(criterion='entropy', max_depth=5)\n",
    "dt.fit(X, y)\n",
    "\n",
    "feature_df = pd.DataFrame(zip(X.columns, dt.feature_importances_), columns=[\"Features\", \"Importance\"])\n",
    "feature_df.head()"
   ]
  },
  {
   "cell_type": "markdown",
   "id": "69fd354d",
   "metadata": {
    "id": "69fd354d"
   },
   "source": [
    "### Only choosing whose feature importances are not 0 and sorted with highest importance on top"
   ]
  },
  {
   "cell_type": "code",
   "execution_count": 8,
   "id": "d790846a",
   "metadata": {
    "colab": {
     "base_uri": "https://localhost:8080/"
    },
    "id": "d790846a",
    "outputId": "bf15cebb-ade9-429e-a854-cbb7c1949516"
   },
   "outputs": [
    {
     "data": {
      "text/plain": [
       "['Inflight wifi service',\n",
       " 'Age',\n",
       " 'Flight Distance',\n",
       " 'Food and drink',\n",
       " 'On-board service',\n",
       " 'Baggage handling',\n",
       " 'Cleanliness',\n",
       " 'Departure Delay in Minutes',\n",
       " 'Customer Type_disloyal Customer',\n",
       " 'Type of Travel_Personal Travel',\n",
       " 'Class_Eco',\n",
       " 'Class_Eco Plus']"
      ]
     },
     "execution_count": 8,
     "metadata": {},
     "output_type": "execute_result"
    }
   ],
   "source": [
    "discardedFeatures = feature_df[feature_df[\"Importance\"]<0.0001]\n",
    "discardedFeatures = list(discardedFeatures.sort_values(by=\"Importance\", ascending=False).Features)\n",
    "discardedFeatures"
   ]
  },
  {
   "cell_type": "code",
   "execution_count": 9,
   "id": "f1c3bb04",
   "metadata": {
    "colab": {
     "base_uri": "https://localhost:8080/",
     "height": 305
    },
    "id": "f1c3bb04",
    "outputId": "04b23653-dea9-4803-ea9a-e4ca08f3a551"
   },
   "outputs": [
    {
     "data": {
      "text/html": [
       "<div>\n",
       "<style scoped>\n",
       "    .dataframe tbody tr th:only-of-type {\n",
       "        vertical-align: middle;\n",
       "    }\n",
       "\n",
       "    .dataframe tbody tr th {\n",
       "        vertical-align: top;\n",
       "    }\n",
       "\n",
       "    .dataframe thead th {\n",
       "        text-align: right;\n",
       "    }\n",
       "</style>\n",
       "<table border=\"1\" class=\"dataframe\">\n",
       "  <thead>\n",
       "    <tr style=\"text-align: right;\">\n",
       "      <th></th>\n",
       "      <th>satisfaction</th>\n",
       "      <th>Seat comfort</th>\n",
       "      <th>Departure/Arrival time convenient</th>\n",
       "      <th>Gate location</th>\n",
       "      <th>Inflight entertainment</th>\n",
       "      <th>Online support</th>\n",
       "      <th>Ease of Online booking</th>\n",
       "      <th>Leg room service</th>\n",
       "      <th>Checkin service</th>\n",
       "      <th>Online boarding</th>\n",
       "      <th>Arrival Delay in Minutes</th>\n",
       "      <th>Gender_Female</th>\n",
       "      <th>Gender_Male</th>\n",
       "      <th>Customer Type_Loyal Customer</th>\n",
       "      <th>Type of Travel_Business travel</th>\n",
       "      <th>Class_Business</th>\n",
       "    </tr>\n",
       "  </thead>\n",
       "  <tbody>\n",
       "    <tr>\n",
       "      <th>0</th>\n",
       "      <td>True</td>\n",
       "      <td>0</td>\n",
       "      <td>0</td>\n",
       "      <td>2</td>\n",
       "      <td>4</td>\n",
       "      <td>2</td>\n",
       "      <td>3</td>\n",
       "      <td>0</td>\n",
       "      <td>5</td>\n",
       "      <td>2</td>\n",
       "      <td>0.0</td>\n",
       "      <td>True</td>\n",
       "      <td>False</td>\n",
       "      <td>True</td>\n",
       "      <td>False</td>\n",
       "      <td>False</td>\n",
       "    </tr>\n",
       "    <tr>\n",
       "      <th>1</th>\n",
       "      <td>True</td>\n",
       "      <td>0</td>\n",
       "      <td>0</td>\n",
       "      <td>3</td>\n",
       "      <td>2</td>\n",
       "      <td>2</td>\n",
       "      <td>3</td>\n",
       "      <td>4</td>\n",
       "      <td>2</td>\n",
       "      <td>2</td>\n",
       "      <td>305.0</td>\n",
       "      <td>False</td>\n",
       "      <td>True</td>\n",
       "      <td>True</td>\n",
       "      <td>False</td>\n",
       "      <td>True</td>\n",
       "    </tr>\n",
       "    <tr>\n",
       "      <th>2</th>\n",
       "      <td>True</td>\n",
       "      <td>0</td>\n",
       "      <td>0</td>\n",
       "      <td>3</td>\n",
       "      <td>0</td>\n",
       "      <td>2</td>\n",
       "      <td>2</td>\n",
       "      <td>3</td>\n",
       "      <td>4</td>\n",
       "      <td>2</td>\n",
       "      <td>0.0</td>\n",
       "      <td>True</td>\n",
       "      <td>False</td>\n",
       "      <td>True</td>\n",
       "      <td>False</td>\n",
       "      <td>False</td>\n",
       "    </tr>\n",
       "    <tr>\n",
       "      <th>3</th>\n",
       "      <td>True</td>\n",
       "      <td>0</td>\n",
       "      <td>0</td>\n",
       "      <td>3</td>\n",
       "      <td>4</td>\n",
       "      <td>3</td>\n",
       "      <td>1</td>\n",
       "      <td>0</td>\n",
       "      <td>4</td>\n",
       "      <td>3</td>\n",
       "      <td>0.0</td>\n",
       "      <td>True</td>\n",
       "      <td>False</td>\n",
       "      <td>True</td>\n",
       "      <td>False</td>\n",
       "      <td>False</td>\n",
       "    </tr>\n",
       "    <tr>\n",
       "      <th>4</th>\n",
       "      <td>True</td>\n",
       "      <td>0</td>\n",
       "      <td>0</td>\n",
       "      <td>3</td>\n",
       "      <td>3</td>\n",
       "      <td>4</td>\n",
       "      <td>2</td>\n",
       "      <td>0</td>\n",
       "      <td>4</td>\n",
       "      <td>5</td>\n",
       "      <td>0.0</td>\n",
       "      <td>True</td>\n",
       "      <td>False</td>\n",
       "      <td>True</td>\n",
       "      <td>False</td>\n",
       "      <td>False</td>\n",
       "    </tr>\n",
       "  </tbody>\n",
       "</table>\n",
       "</div>"
      ],
      "text/plain": [
       "   satisfaction  Seat comfort  Departure/Arrival time convenient   \n",
       "0          True             0                                  0  \\\n",
       "1          True             0                                  0   \n",
       "2          True             0                                  0   \n",
       "3          True             0                                  0   \n",
       "4          True             0                                  0   \n",
       "\n",
       "   Gate location  Inflight entertainment  Online support   \n",
       "0              2                       4               2  \\\n",
       "1              3                       2               2   \n",
       "2              3                       0               2   \n",
       "3              3                       4               3   \n",
       "4              3                       3               4   \n",
       "\n",
       "   Ease of Online booking  Leg room service  Checkin service  Online boarding   \n",
       "0                       3                 0                5                2  \\\n",
       "1                       3                 4                2                2   \n",
       "2                       2                 3                4                2   \n",
       "3                       1                 0                4                3   \n",
       "4                       2                 0                4                5   \n",
       "\n",
       "   Arrival Delay in Minutes  Gender_Female  Gender_Male   \n",
       "0                       0.0           True        False  \\\n",
       "1                     305.0          False         True   \n",
       "2                       0.0           True        False   \n",
       "3                       0.0           True        False   \n",
       "4                       0.0           True        False   \n",
       "\n",
       "   Customer Type_Loyal Customer  Type of Travel_Business travel   \n",
       "0                          True                           False  \\\n",
       "1                          True                           False   \n",
       "2                          True                           False   \n",
       "3                          True                           False   \n",
       "4                          True                           False   \n",
       "\n",
       "   Class_Business  \n",
       "0           False  \n",
       "1            True  \n",
       "2           False  \n",
       "3           False  \n",
       "4           False  "
      ]
     },
     "execution_count": 9,
     "metadata": {},
     "output_type": "execute_result"
    }
   ],
   "source": [
    "filtered_df = encoded_df.drop(columns=discardedFeatures)\n",
    "filtered_df.head()"
   ]
  },
  {
   "cell_type": "markdown",
   "id": "c00eb3e0",
   "metadata": {
    "id": "c00eb3e0"
   },
   "source": [
    "## Preparing for Model Training and Testing"
   ]
  },
  {
   "cell_type": "code",
   "execution_count": 10,
   "id": "bfebd18a",
   "metadata": {
    "colab": {
     "base_uri": "https://localhost:8080/"
    },
    "id": "bfebd18a",
    "outputId": "4de6d17c-3da9-4e99-cd7b-a4f403509211"
   },
   "outputs": [
    {
     "name": "stdout",
     "output_type": "stream",
     "text": [
      "51795 15538\n"
     ]
    }
   ],
   "source": [
    "import random\n",
    "train = filtered_df.sample(frac=0.4, random_state=20)\n",
    "test = filtered_df.drop(index=train.index).sample(frac=0.2, random_state=20)\n",
    "print(len(train.index), len(test.index))"
   ]
  },
  {
   "cell_type": "code",
   "execution_count": 67,
   "id": "26e86ae0",
   "metadata": {
    "colab": {
     "base_uri": "https://localhost:8080/"
    },
    "id": "26e86ae0",
    "outputId": "d3964ca9-8822-43cb-ab3b-934dadbe9932"
   },
   "outputs": [
    {
     "name": "stdout",
     "output_type": "stream",
     "text": [
      "(51795, 15) (15538, 15)\n"
     ]
    }
   ],
   "source": [
    "xTrain = train.drop(columns=\"satisfaction\")\n",
    "yTrain = train[\"satisfaction\"]\n",
    "\n",
    "xTest = test.drop(columns=\"satisfaction\")\n",
    "yTest = test[\"satisfaction\"]\n",
    "\n",
    "print(xTrain.shape, xTest.shape)"
   ]
  },
  {
   "cell_type": "code",
   "execution_count": 75,
   "id": "acc80ce8",
   "metadata": {},
   "outputs": [],
   "source": [
    "def sigmoid(z):\n",
    "    return 1/(1+2.71828 ** z[:])\n",
    "\n",
    "def predict(x,w,b):\n",
    "    return sigmoid(-np.matmul(x, w) - b)"
   ]
  },
  {
   "cell_type": "code",
   "execution_count": 76,
   "id": "53a5706b",
   "metadata": {},
   "outputs": [],
   "source": [
    "def computeGradient(xT, yT, _w, _bias):\n",
    "    m,n = xT.shape\n",
    "    predicted = predict(xT,_w,_bias)\n",
    "\n",
    "    costs = predicted-yT\n",
    "    \n",
    "    dj_db = np.sum(costs)/m\n",
    "    \n",
    "    transposedX = np.transpose(xT)\n",
    "    \n",
    "    newWeights = np.matmul(transposedX, costs)\n",
    "    \n",
    "    dj_dw = np.transpose(newWeights)/m\n",
    "    \n",
    "    return dj_dw,dj_db,costs"
   ]
  },
  {
   "cell_type": "code",
   "execution_count": 94,
   "id": "bca97f40",
   "metadata": {},
   "outputs": [
    {
     "name": "stdout",
     "output_type": "stream",
     "text": [
      "Error: 15696.19  | Diff: 0.1000028\n",
      "Done training\n"
     ]
    }
   ],
   "source": [
    "w = np.zeros((xTrain.shape[1], ))\n",
    "bias = 0\n",
    "errorHistory = []\n",
    "lrate = 0.005\n",
    "\n",
    "errorMin = 1\n",
    "while errorMin > 0.1:\n",
    "    d_w,d_b,costs = computeGradient(xTrain.values, yTrain.values, w, bias)\n",
    "    \n",
    "    bias -= lrate * d_b\n",
    "    w -= (d_w * lrate).astype('float64')\n",
    "\n",
    "    errorHistory.append(np.sum(np.absolute(costs)))\n",
    "    if len(errorHistory) > 1:\n",
    "        errorMin = abs(errorHistory[-2] - errorHistory[-1])\n",
    "    print(\"Error: %.2f\" % np.sum(np.abs(costs)), \" | Diff: %.5f\" % errorMin, end='\\r')\n",
    "print(\"\\nDone training\")"
   ]
  },
  {
   "cell_type": "code",
   "execution_count": 95,
   "id": "d09c27d5",
   "metadata": {},
   "outputs": [
    {
     "data": {
      "text/plain": [
       "[<matplotlib.lines.Line2D at 0x7f59091ab250>]"
      ]
     },
     "execution_count": 95,
     "metadata": {},
     "output_type": "execute_result"
    },
    {
     "data": {
      "image/png": "[encoded data removed]",
      "text/plain": [
       "<Figure size 640x480 with 1 Axes>"
      ]
     },
     "metadata": {},
     "output_type": "display_data"
    }
   ],
   "source": [
    "plt.plot(errorHistory)"
   ]
  },
  {
   "cell_type": "markdown",
   "id": "p-sAa_L4qr5j",
   "metadata": {
    "id": "p-sAa_L4qr5j"
   },
   "source": [
    "![image.png](data:image/png;base64,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)"
   ]
  },
  {
   "cell_type": "code",
   "execution_count": 96,
   "id": "dXZqqapD4_Gf",
   "metadata": {
    "colab": {
     "base_uri": "https://localhost:8080/"
    },
    "id": "dXZqqapD4_Gf",
    "outputId": "db7092f8-18b3-487d-b9e1-2c5909a33254"
   },
   "outputs": [
    {
     "name": "stdout",
     "output_type": "stream",
     "text": [
      "MSE:  [[24558, 3782], [6042, 17413]]\n",
      "Error:  18.967081764649095  %\n"
     ]
    }
   ],
   "source": [
    "## Actual,Predicted\n",
    "# True Positive   True Negative\n",
    "# False Positive  False Negative\n",
    "def confusionMatrix(predicted, trueVals):\n",
    "    m = [[0,0], [0,0]]\n",
    "    for i in range(len(predicted)):\n",
    "        if trueVals[i]==True:\n",
    "            if predicted[i] == True:\n",
    "                m[0][0] += 1\n",
    "            else:\n",
    "                m[0][1] += 1\n",
    "        else:\n",
    "            if predicted[i] == False:\n",
    "                m[1][1] += 1\n",
    "            else:\n",
    "                m[1][0] += 1\n",
    "    return m\n",
    "\n",
    "predictedValues = [False if abs(i) < 0.5 else True for i in predict(xTrain.values, w, bias)]\n",
    "mse = confusionMatrix(predictedValues, yTrain.values)\n",
    "print(\"MSE: \", mse)\n",
    "print(\"Error: \", (mse[0][1] + mse[1][0])/len(predictedValues) * 100, \" %\")"
   ]
  }
 ],
 "metadata": {
  "colab": {
   "provenance": []
  },
  "kernelspec": {
   "display_name": "Python 3 (ipykernel)",
   "language": "python",
   "name": "python3"
  },
  "language_info": {
   "codemirror_mode": {
    "name": "ipython",
    "version": 3
   },
   "file_extension": ".py",
   "mimetype": "text/x-python",
   "name": "python",
   "nbconvert_exporter": "python",
   "pygments_lexer": "ipython3",
   "version": "3.11.3"
  }
 },
 "nbformat": 4,
 "nbformat_minor": 5
}
